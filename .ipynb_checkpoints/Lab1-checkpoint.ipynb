{
 "cells": [
  {
   "cell_type": "code",
   "execution_count": 8,
   "id": "dfaa6edf",
   "metadata": {},
   "outputs": [
    {
     "name": "stdout",
     "output_type": "stream",
     "text": [
      "7\n"
     ]
    }
   ],
   "source": [
    "N = ord(\"B\") % 10 + 1 \n",
    "print(N)"
   ]
  },
  {
   "cell_type": "markdown",
   "id": "4821b800",
   "metadata": {},
   "source": [
    "# Ісландія\n",
    "\n",
    "<svg xmlns=\"http://www.w3.org/2000/svg\" width=\"300\" height=\"200\" viewBox=\"0 0 18 25\">\n",
    "  <rect width=\"25\" height=\"18\" fill=\"#02529C\"/>\n",
    "  <path d=\"M7 0h4v18H7z\" fill=\"#fff\"/>\n",
    "  <path d=\"M0 7h25v4H0z\" fill=\"#fff\"/>\n",
    "  <rect width=\"2\" height=\"18\" x=\"8\" fill=\"#D72828\"/>\n",
    "  <rect width=\"25\" height=\"2\" y=\"8\" fill=\"#D72828\"/>\n",
    "</svg>\n",
    "\n",
    "<p> Ісландія - країна в Північній Європі, розташована на острові в Атлантичному океані. </p>\n",
    "\n",
    "## Основна інформація\n",
    "\n",
    "<div style=\"border: 2px solid #003897; padding: 10px; margin-top: 20px; background: #C4FAFF;\">\n",
    "    <p><strong>Площа:</strong> 103,000 км²</p>\n",
    "    <p><strong>Населення:</strong> 356,991 (2021)</p>\n",
    "    <p><strong>Державний устрій:</strong> Парламентська республіка</p>\n",
    "  </div>\n",
    "\n",
    "## Видатні персоналії\n",
    "\n",
    "* Леїфур Ейрікссон - вікінг іссландського походження\n",
    "* Халльгрімур Петурссон - ісландський письменник\n",
    "* Бьорк - відома ісландська співачка та композитор\n",
    "\n",
    "## Пам'ятки культури та природи\n",
    "\n",
    "| ___Назва___ | ___Тип___ |\n",
    "| :- | :-: |\n",
    "| Гейзер Гейсір | Природний |\n",
    "| Крафа - льодовик | Природний |\n",
    "| Церква Халлгримскальдур | Культурний |\n",
    "\n",
    "## Зображення\n",
    "\n",
    "<div style=\"display: inline-block; margin-right: 10px;\">\n",
    "    <a href=\"https://en.wikipedia.org/wiki/Iceland\" target=\"_blank\">\n",
    "      <img src=\"https://images.unsplash.com/photo-1504829857797-ddff29c27927?ixlib=rb-4.0.3&ixid=M3wxMjA3fDB8MHxzZWFyY2h8NHx8aWNlbGFuZHxlbnwwfHwwfHx8MA%3D%3D&w=1000&q=80\" alt=\"Ісландія\" style=\"max-width: 100%; height: auto;\">\n",
    "    </a>\n",
    "  </div>\n",
    "  <div style=\"display: inline-block; margin-right: 10px;\">\n",
    "    <a href=\"https://www.visiticeland.com/\" target=\"_blank\">\n",
    "      <img src=\"iceland.jpg\" alt=\"Ісландія\" style=\"max-width: 100%; height: auto;\">\n",
    "    </a>\n",
    "  </div>\n"
   ]
  },
  {
   "cell_type": "code",
   "execution_count": 15,
   "id": "536d0272",
   "metadata": {},
   "outputs": [
    {
     "name": "stdout",
     "output_type": "stream",
     "text": [
      "32 в двійковій системі 0|100000\n",
      "-10.25 в двійковій системі 1|1010.01\n",
      "32.35 в двійковій системі 0|100000.01011001100110011001100110011001100110011001101\n",
      "-69 в двійковій системі 1|1000101\n",
      "2.468 в двійковій системі 0|10.011101111100111011011001000101101000011100101011\n",
      "Error\n"
     ]
    }
   ],
   "source": [
    "def dec_to_bin(n):\n",
    "    if isinstance(n, int):\n",
    "        integer = abs(n)\n",
    "        bin_integer = bin(integer)[2:]\n",
    "        result = f'{n} в двійковій системі {pos_neg(n)}|{bin_integer}'\n",
    "    elif isinstance(n, float):\n",
    "        integer = abs(int(n))\n",
    "        coma = abs(n) - integer\n",
    "        bin_integer = bin(integer)[2:]\n",
    "        bin_coma = afterflo(coma)\n",
    "        result = f'{n} в двійковій системі {pos_neg(n)}|{bin_integer}.{bin_coma}'\n",
    "    else:\n",
    "        result = 'Error'\n",
    "    \n",
    "    return result\n",
    "        \n",
    "def pos_neg(n): #знак числа\n",
    "    if n >= 0:\n",
    "        return '0'\n",
    "    else:\n",
    "        return '1'\n",
    "    \n",
    "def afterflo(coma): #дробова частина в 2\n",
    "    bin_coma = ''\n",
    "    while coma != 0:\n",
    "        coma *= 2\n",
    "        lilint = int(coma)\n",
    "        bin_coma += str(lilint)\n",
    "        coma -= lilint\n",
    "    return bin_coma\n",
    "    \n",
    "print(dec_to_bin(32))\n",
    "print(dec_to_bin(-10.25))\n",
    "print(dec_to_bin(32.35))\n",
    "print(dec_to_bin(-69))\n",
    "print(dec_to_bin(2.468))\n",
    "print(dec_to_bin('dgn'))"
   ]
  },
  {
   "cell_type": "code",
   "execution_count": null,
   "id": "d83f8417",
   "metadata": {},
   "outputs": [],
   "source": []
  }
 ],
 "metadata": {
  "kernelspec": {
   "display_name": "Python 3 (ipykernel)",
   "language": "python",
   "name": "python3"
  },
  "language_info": {
   "codemirror_mode": {
    "name": "ipython",
    "version": 3
   },
   "file_extension": ".py",
   "mimetype": "text/x-python",
   "name": "python",
   "nbconvert_exporter": "python",
   "pygments_lexer": "ipython3",
   "version": "3.11.0"
  }
 },
 "nbformat": 4,
 "nbformat_minor": 5
}
